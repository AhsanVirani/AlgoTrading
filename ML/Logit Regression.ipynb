{
 "cells": [
  {
   "cell_type": "code",
   "execution_count": 17,
   "metadata": {},
   "outputs": [],
   "source": [
    "import pandas as pd\n",
    "import numpy as np\n",
    "import matplotlib.pyplot as plt\n",
    "plt.style.use(\"seaborn\")\n",
    "from sklearn.linear_model import LogisticRegression"
   ]
  },
  {
   "cell_type": "code",
   "execution_count": 7,
   "metadata": {},
   "outputs": [],
   "source": [
    "data = pd.read_csv(\"/Users/ahsan/Dropbox/My Mac (Alnoors-MBP-2.hub)/Documents/github/AlgoTrading/Part3_Materials/five_minute.csv\", parse_dates=[\"time\"], index_col=\"time\")"
   ]
  },
  {
   "cell_type": "code",
   "execution_count": 8,
   "metadata": {},
   "outputs": [],
   "source": [
    "data[\"returns\"] = np.log(data.div(data.shift(1)))"
   ]
  },
  {
   "cell_type": "code",
   "execution_count": 10,
   "metadata": {},
   "outputs": [],
   "source": [
    "data.dropna(inplace=True)"
   ]
  },
  {
   "cell_type": "code",
   "execution_count": 11,
   "metadata": {},
   "outputs": [],
   "source": [
    "data[\"direction\"] = np.sign(data[\"returns\"])"
   ]
  },
  {
   "cell_type": "code",
   "execution_count": 16,
   "metadata": {},
   "outputs": [
    {
     "data": {
      "text/html": [
       "<div>\n",
       "<style scoped>\n",
       "    .dataframe tbody tr th:only-of-type {\n",
       "        vertical-align: middle;\n",
       "    }\n",
       "\n",
       "    .dataframe tbody tr th {\n",
       "        vertical-align: top;\n",
       "    }\n",
       "\n",
       "    .dataframe thead th {\n",
       "        text-align: right;\n",
       "    }\n",
       "</style>\n",
       "<table border=\"1\" class=\"dataframe\">\n",
       "  <thead>\n",
       "    <tr style=\"text-align: right;\">\n",
       "      <th></th>\n",
       "      <th>price</th>\n",
       "      <th>returns</th>\n",
       "      <th>direction</th>\n",
       "      <th>lag1</th>\n",
       "      <th>lag2</th>\n",
       "      <th>lag3</th>\n",
       "      <th>lag4</th>\n",
       "      <th>lag5</th>\n",
       "    </tr>\n",
       "    <tr>\n",
       "      <th>time</th>\n",
       "      <th></th>\n",
       "      <th></th>\n",
       "      <th></th>\n",
       "      <th></th>\n",
       "      <th></th>\n",
       "      <th></th>\n",
       "      <th></th>\n",
       "      <th></th>\n",
       "    </tr>\n",
       "  </thead>\n",
       "  <tbody>\n",
       "    <tr>\n",
       "      <th>2019-01-01 22:30:00+00:00</th>\n",
       "      <td>1.146455</td>\n",
       "      <td>-0.000017</td>\n",
       "      <td>-1.0</td>\n",
       "      <td>-0.000048</td>\n",
       "      <td>0.000183</td>\n",
       "      <td>0.000000</td>\n",
       "      <td>-0.000026</td>\n",
       "      <td>-0.000201</td>\n",
       "    </tr>\n",
       "    <tr>\n",
       "      <th>2019-01-01 22:35:00+00:00</th>\n",
       "      <td>1.146455</td>\n",
       "      <td>0.000000</td>\n",
       "      <td>0.0</td>\n",
       "      <td>-0.000017</td>\n",
       "      <td>-0.000048</td>\n",
       "      <td>0.000183</td>\n",
       "      <td>0.000000</td>\n",
       "      <td>-0.000026</td>\n",
       "    </tr>\n",
       "    <tr>\n",
       "      <th>2019-01-01 22:40:00+00:00</th>\n",
       "      <td>1.146370</td>\n",
       "      <td>-0.000074</td>\n",
       "      <td>-1.0</td>\n",
       "      <td>0.000000</td>\n",
       "      <td>-0.000017</td>\n",
       "      <td>-0.000048</td>\n",
       "      <td>0.000183</td>\n",
       "      <td>0.000000</td>\n",
       "    </tr>\n",
       "    <tr>\n",
       "      <th>2019-01-01 22:45:00+00:00</th>\n",
       "      <td>1.146315</td>\n",
       "      <td>-0.000048</td>\n",
       "      <td>-1.0</td>\n",
       "      <td>-0.000074</td>\n",
       "      <td>0.000000</td>\n",
       "      <td>-0.000017</td>\n",
       "      <td>-0.000048</td>\n",
       "      <td>0.000183</td>\n",
       "    </tr>\n",
       "    <tr>\n",
       "      <th>2019-01-01 22:50:00+00:00</th>\n",
       "      <td>1.146475</td>\n",
       "      <td>0.000140</td>\n",
       "      <td>1.0</td>\n",
       "      <td>-0.000048</td>\n",
       "      <td>-0.000074</td>\n",
       "      <td>0.000000</td>\n",
       "      <td>-0.000017</td>\n",
       "      <td>-0.000048</td>\n",
       "    </tr>\n",
       "    <tr>\n",
       "      <th>...</th>\n",
       "      <td>...</td>\n",
       "      <td>...</td>\n",
       "      <td>...</td>\n",
       "      <td>...</td>\n",
       "      <td>...</td>\n",
       "      <td>...</td>\n",
       "      <td>...</td>\n",
       "      <td>...</td>\n",
       "    </tr>\n",
       "    <tr>\n",
       "      <th>2019-12-30 23:35:00+00:00</th>\n",
       "      <td>1.120180</td>\n",
       "      <td>-0.000004</td>\n",
       "      <td>-1.0</td>\n",
       "      <td>-0.000112</td>\n",
       "      <td>-0.000018</td>\n",
       "      <td>0.000022</td>\n",
       "      <td>-0.000004</td>\n",
       "      <td>0.000089</td>\n",
       "    </tr>\n",
       "    <tr>\n",
       "      <th>2019-12-30 23:40:00+00:00</th>\n",
       "      <td>1.120210</td>\n",
       "      <td>0.000027</td>\n",
       "      <td>1.0</td>\n",
       "      <td>-0.000004</td>\n",
       "      <td>-0.000112</td>\n",
       "      <td>-0.000018</td>\n",
       "      <td>0.000022</td>\n",
       "      <td>-0.000004</td>\n",
       "    </tr>\n",
       "    <tr>\n",
       "      <th>2019-12-30 23:45:00+00:00</th>\n",
       "      <td>1.120295</td>\n",
       "      <td>0.000076</td>\n",
       "      <td>1.0</td>\n",
       "      <td>0.000027</td>\n",
       "      <td>-0.000004</td>\n",
       "      <td>-0.000112</td>\n",
       "      <td>-0.000018</td>\n",
       "      <td>0.000022</td>\n",
       "    </tr>\n",
       "    <tr>\n",
       "      <th>2019-12-30 23:50:00+00:00</th>\n",
       "      <td>1.120275</td>\n",
       "      <td>-0.000018</td>\n",
       "      <td>-1.0</td>\n",
       "      <td>0.000076</td>\n",
       "      <td>0.000027</td>\n",
       "      <td>-0.000004</td>\n",
       "      <td>-0.000112</td>\n",
       "      <td>-0.000018</td>\n",
       "    </tr>\n",
       "    <tr>\n",
       "      <th>2019-12-30 23:55:00+00:00</th>\n",
       "      <td>1.120130</td>\n",
       "      <td>-0.000129</td>\n",
       "      <td>-1.0</td>\n",
       "      <td>-0.000018</td>\n",
       "      <td>0.000076</td>\n",
       "      <td>0.000027</td>\n",
       "      <td>-0.000004</td>\n",
       "      <td>-0.000112</td>\n",
       "    </tr>\n",
       "  </tbody>\n",
       "</table>\n",
       "<p>73714 rows × 8 columns</p>\n",
       "</div>"
      ],
      "text/plain": [
       "                              price   returns  direction      lag1      lag2  \\\n",
       "time                                                                           \n",
       "2019-01-01 22:30:00+00:00  1.146455 -0.000017       -1.0 -0.000048  0.000183   \n",
       "2019-01-01 22:35:00+00:00  1.146455  0.000000        0.0 -0.000017 -0.000048   \n",
       "2019-01-01 22:40:00+00:00  1.146370 -0.000074       -1.0  0.000000 -0.000017   \n",
       "2019-01-01 22:45:00+00:00  1.146315 -0.000048       -1.0 -0.000074  0.000000   \n",
       "2019-01-01 22:50:00+00:00  1.146475  0.000140        1.0 -0.000048 -0.000074   \n",
       "...                             ...       ...        ...       ...       ...   \n",
       "2019-12-30 23:35:00+00:00  1.120180 -0.000004       -1.0 -0.000112 -0.000018   \n",
       "2019-12-30 23:40:00+00:00  1.120210  0.000027        1.0 -0.000004 -0.000112   \n",
       "2019-12-30 23:45:00+00:00  1.120295  0.000076        1.0  0.000027 -0.000004   \n",
       "2019-12-30 23:50:00+00:00  1.120275 -0.000018       -1.0  0.000076  0.000027   \n",
       "2019-12-30 23:55:00+00:00  1.120130 -0.000129       -1.0 -0.000018  0.000076   \n",
       "\n",
       "                               lag3      lag4      lag5  \n",
       "time                                                     \n",
       "2019-01-01 22:30:00+00:00  0.000000 -0.000026 -0.000201  \n",
       "2019-01-01 22:35:00+00:00  0.000183  0.000000 -0.000026  \n",
       "2019-01-01 22:40:00+00:00 -0.000048  0.000183  0.000000  \n",
       "2019-01-01 22:45:00+00:00 -0.000017 -0.000048  0.000183  \n",
       "2019-01-01 22:50:00+00:00  0.000000 -0.000017 -0.000048  \n",
       "...                             ...       ...       ...  \n",
       "2019-12-30 23:35:00+00:00  0.000022 -0.000004  0.000089  \n",
       "2019-12-30 23:40:00+00:00 -0.000018  0.000022 -0.000004  \n",
       "2019-12-30 23:45:00+00:00 -0.000112 -0.000018  0.000022  \n",
       "2019-12-30 23:50:00+00:00 -0.000004 -0.000112 -0.000018  \n",
       "2019-12-30 23:55:00+00:00  0.000027 -0.000004 -0.000112  \n",
       "\n",
       "[73714 rows x 8 columns]"
      ]
     },
     "execution_count": 16,
     "metadata": {},
     "output_type": "execute_result"
    }
   ],
   "source": [
    "data"
   ]
  },
  {
   "cell_type": "code",
   "execution_count": 13,
   "metadata": {},
   "outputs": [
    {
     "data": {
      "text/plain": [
       " 1.0    36064\n",
       "-1.0    35708\n",
       " 0.0     1947\n",
       "Name: direction, dtype: int64"
      ]
     },
     "execution_count": 13,
     "metadata": {},
     "output_type": "execute_result"
    }
   ],
   "source": [
    "data[\"direction\"].value_counts()"
   ]
  },
  {
   "cell_type": "code",
   "execution_count": 14,
   "metadata": {},
   "outputs": [],
   "source": [
    "lags = 5"
   ]
  },
  {
   "cell_type": "code",
   "execution_count": 15,
   "metadata": {},
   "outputs": [],
   "source": [
    "cols = []\n",
    "for lag in range(1, lags+1):\n",
    "    col = \"lag{}\".format(lag)\n",
    "    data[col] = data[\"returns\"].shift(lag)\n",
    "    cols.append(col)\n",
    "data.dropna(inplace=True)"
   ]
  },
  {
   "cell_type": "code",
   "execution_count": 20,
   "metadata": {},
   "outputs": [],
   "source": [
    "lm = LogisticRegression(C = 1e6, max_iter=100000, multi_class=\"ovr\")"
   ]
  },
  {
   "cell_type": "code",
   "execution_count": 21,
   "metadata": {},
   "outputs": [
    {
     "data": {
      "text/plain": [
       "LogisticRegression(C=1000000.0, max_iter=100000, multi_class='ovr')"
      ]
     },
     "execution_count": 21,
     "metadata": {},
     "output_type": "execute_result"
    }
   ],
   "source": [
    "lm.fit(data[cols], data[\"direction\"])"
   ]
  },
  {
   "cell_type": "code",
   "execution_count": 22,
   "metadata": {},
   "outputs": [],
   "source": [
    "data[\"pred\"] = lm.predict(data[cols])"
   ]
  },
  {
   "cell_type": "code",
   "execution_count": 23,
   "metadata": {
    "scrolled": true
   },
   "outputs": [
    {
     "data": {
      "text/html": [
       "<div>\n",
       "<style scoped>\n",
       "    .dataframe tbody tr th:only-of-type {\n",
       "        vertical-align: middle;\n",
       "    }\n",
       "\n",
       "    .dataframe tbody tr th {\n",
       "        vertical-align: top;\n",
       "    }\n",
       "\n",
       "    .dataframe thead th {\n",
       "        text-align: right;\n",
       "    }\n",
       "</style>\n",
       "<table border=\"1\" class=\"dataframe\">\n",
       "  <thead>\n",
       "    <tr style=\"text-align: right;\">\n",
       "      <th></th>\n",
       "      <th>price</th>\n",
       "      <th>returns</th>\n",
       "      <th>direction</th>\n",
       "      <th>lag1</th>\n",
       "      <th>lag2</th>\n",
       "      <th>lag3</th>\n",
       "      <th>lag4</th>\n",
       "      <th>lag5</th>\n",
       "      <th>pred</th>\n",
       "    </tr>\n",
       "    <tr>\n",
       "      <th>time</th>\n",
       "      <th></th>\n",
       "      <th></th>\n",
       "      <th></th>\n",
       "      <th></th>\n",
       "      <th></th>\n",
       "      <th></th>\n",
       "      <th></th>\n",
       "      <th></th>\n",
       "      <th></th>\n",
       "    </tr>\n",
       "  </thead>\n",
       "  <tbody>\n",
       "    <tr>\n",
       "      <th>2019-01-01 22:30:00+00:00</th>\n",
       "      <td>1.146455</td>\n",
       "      <td>-0.000017</td>\n",
       "      <td>-1.0</td>\n",
       "      <td>-0.000048</td>\n",
       "      <td>0.000183</td>\n",
       "      <td>0.000000</td>\n",
       "      <td>-0.000026</td>\n",
       "      <td>-0.000201</td>\n",
       "      <td>1.0</td>\n",
       "    </tr>\n",
       "    <tr>\n",
       "      <th>2019-01-01 22:35:00+00:00</th>\n",
       "      <td>1.146455</td>\n",
       "      <td>0.000000</td>\n",
       "      <td>0.0</td>\n",
       "      <td>-0.000017</td>\n",
       "      <td>-0.000048</td>\n",
       "      <td>0.000183</td>\n",
       "      <td>0.000000</td>\n",
       "      <td>-0.000026</td>\n",
       "      <td>1.0</td>\n",
       "    </tr>\n",
       "    <tr>\n",
       "      <th>2019-01-01 22:40:00+00:00</th>\n",
       "      <td>1.146370</td>\n",
       "      <td>-0.000074</td>\n",
       "      <td>-1.0</td>\n",
       "      <td>0.000000</td>\n",
       "      <td>-0.000017</td>\n",
       "      <td>-0.000048</td>\n",
       "      <td>0.000183</td>\n",
       "      <td>0.000000</td>\n",
       "      <td>-1.0</td>\n",
       "    </tr>\n",
       "    <tr>\n",
       "      <th>2019-01-01 22:45:00+00:00</th>\n",
       "      <td>1.146315</td>\n",
       "      <td>-0.000048</td>\n",
       "      <td>-1.0</td>\n",
       "      <td>-0.000074</td>\n",
       "      <td>0.000000</td>\n",
       "      <td>-0.000017</td>\n",
       "      <td>-0.000048</td>\n",
       "      <td>0.000183</td>\n",
       "      <td>1.0</td>\n",
       "    </tr>\n",
       "    <tr>\n",
       "      <th>2019-01-01 22:50:00+00:00</th>\n",
       "      <td>1.146475</td>\n",
       "      <td>0.000140</td>\n",
       "      <td>1.0</td>\n",
       "      <td>-0.000048</td>\n",
       "      <td>-0.000074</td>\n",
       "      <td>0.000000</td>\n",
       "      <td>-0.000017</td>\n",
       "      <td>-0.000048</td>\n",
       "      <td>1.0</td>\n",
       "    </tr>\n",
       "    <tr>\n",
       "      <th>...</th>\n",
       "      <td>...</td>\n",
       "      <td>...</td>\n",
       "      <td>...</td>\n",
       "      <td>...</td>\n",
       "      <td>...</td>\n",
       "      <td>...</td>\n",
       "      <td>...</td>\n",
       "      <td>...</td>\n",
       "      <td>...</td>\n",
       "    </tr>\n",
       "    <tr>\n",
       "      <th>2019-12-30 23:35:00+00:00</th>\n",
       "      <td>1.120180</td>\n",
       "      <td>-0.000004</td>\n",
       "      <td>-1.0</td>\n",
       "      <td>-0.000112</td>\n",
       "      <td>-0.000018</td>\n",
       "      <td>0.000022</td>\n",
       "      <td>-0.000004</td>\n",
       "      <td>0.000089</td>\n",
       "      <td>1.0</td>\n",
       "    </tr>\n",
       "    <tr>\n",
       "      <th>2019-12-30 23:40:00+00:00</th>\n",
       "      <td>1.120210</td>\n",
       "      <td>0.000027</td>\n",
       "      <td>1.0</td>\n",
       "      <td>-0.000004</td>\n",
       "      <td>-0.000112</td>\n",
       "      <td>-0.000018</td>\n",
       "      <td>0.000022</td>\n",
       "      <td>-0.000004</td>\n",
       "      <td>1.0</td>\n",
       "    </tr>\n",
       "    <tr>\n",
       "      <th>2019-12-30 23:45:00+00:00</th>\n",
       "      <td>1.120295</td>\n",
       "      <td>0.000076</td>\n",
       "      <td>1.0</td>\n",
       "      <td>0.000027</td>\n",
       "      <td>-0.000004</td>\n",
       "      <td>-0.000112</td>\n",
       "      <td>-0.000018</td>\n",
       "      <td>0.000022</td>\n",
       "      <td>1.0</td>\n",
       "    </tr>\n",
       "    <tr>\n",
       "      <th>2019-12-30 23:50:00+00:00</th>\n",
       "      <td>1.120275</td>\n",
       "      <td>-0.000018</td>\n",
       "      <td>-1.0</td>\n",
       "      <td>0.000076</td>\n",
       "      <td>0.000027</td>\n",
       "      <td>-0.000004</td>\n",
       "      <td>-0.000112</td>\n",
       "      <td>-0.000018</td>\n",
       "      <td>-1.0</td>\n",
       "    </tr>\n",
       "    <tr>\n",
       "      <th>2019-12-30 23:55:00+00:00</th>\n",
       "      <td>1.120130</td>\n",
       "      <td>-0.000129</td>\n",
       "      <td>-1.0</td>\n",
       "      <td>-0.000018</td>\n",
       "      <td>0.000076</td>\n",
       "      <td>0.000027</td>\n",
       "      <td>-0.000004</td>\n",
       "      <td>-0.000112</td>\n",
       "      <td>1.0</td>\n",
       "    </tr>\n",
       "  </tbody>\n",
       "</table>\n",
       "<p>73714 rows × 9 columns</p>\n",
       "</div>"
      ],
      "text/plain": [
       "                              price   returns  direction      lag1      lag2  \\\n",
       "time                                                                           \n",
       "2019-01-01 22:30:00+00:00  1.146455 -0.000017       -1.0 -0.000048  0.000183   \n",
       "2019-01-01 22:35:00+00:00  1.146455  0.000000        0.0 -0.000017 -0.000048   \n",
       "2019-01-01 22:40:00+00:00  1.146370 -0.000074       -1.0  0.000000 -0.000017   \n",
       "2019-01-01 22:45:00+00:00  1.146315 -0.000048       -1.0 -0.000074  0.000000   \n",
       "2019-01-01 22:50:00+00:00  1.146475  0.000140        1.0 -0.000048 -0.000074   \n",
       "...                             ...       ...        ...       ...       ...   \n",
       "2019-12-30 23:35:00+00:00  1.120180 -0.000004       -1.0 -0.000112 -0.000018   \n",
       "2019-12-30 23:40:00+00:00  1.120210  0.000027        1.0 -0.000004 -0.000112   \n",
       "2019-12-30 23:45:00+00:00  1.120295  0.000076        1.0  0.000027 -0.000004   \n",
       "2019-12-30 23:50:00+00:00  1.120275 -0.000018       -1.0  0.000076  0.000027   \n",
       "2019-12-30 23:55:00+00:00  1.120130 -0.000129       -1.0 -0.000018  0.000076   \n",
       "\n",
       "                               lag3      lag4      lag5  pred  \n",
       "time                                                           \n",
       "2019-01-01 22:30:00+00:00  0.000000 -0.000026 -0.000201   1.0  \n",
       "2019-01-01 22:35:00+00:00  0.000183  0.000000 -0.000026   1.0  \n",
       "2019-01-01 22:40:00+00:00 -0.000048  0.000183  0.000000  -1.0  \n",
       "2019-01-01 22:45:00+00:00 -0.000017 -0.000048  0.000183   1.0  \n",
       "2019-01-01 22:50:00+00:00  0.000000 -0.000017 -0.000048   1.0  \n",
       "...                             ...       ...       ...   ...  \n",
       "2019-12-30 23:35:00+00:00  0.000022 -0.000004  0.000089   1.0  \n",
       "2019-12-30 23:40:00+00:00 -0.000018  0.000022 -0.000004   1.0  \n",
       "2019-12-30 23:45:00+00:00 -0.000112 -0.000018  0.000022   1.0  \n",
       "2019-12-30 23:50:00+00:00 -0.000004 -0.000112 -0.000018  -1.0  \n",
       "2019-12-30 23:55:00+00:00  0.000027 -0.000004 -0.000112   1.0  \n",
       "\n",
       "[73714 rows x 9 columns]"
      ]
     },
     "execution_count": 23,
     "metadata": {},
     "output_type": "execute_result"
    }
   ],
   "source": [
    "data"
   ]
  },
  {
   "cell_type": "code",
   "execution_count": 24,
   "metadata": {},
   "outputs": [
    {
     "data": {
      "text/plain": [
       " 1.0    41397\n",
       "-1.0    32317\n",
       "Name: pred, dtype: int64"
      ]
     },
     "execution_count": 24,
     "metadata": {},
     "output_type": "execute_result"
    }
   ],
   "source": [
    "data[\"pred\"].value_counts()"
   ]
  },
  {
   "cell_type": "code",
   "execution_count": 25,
   "metadata": {},
   "outputs": [],
   "source": [
    "hits = np.sign(data[\"direction\"] * data[\"pred\"]).value_counts()"
   ]
  },
  {
   "cell_type": "code",
   "execution_count": 26,
   "metadata": {},
   "outputs": [
    {
     "data": {
      "text/plain": [
       " 1.0    37620\n",
       "-1.0    34148\n",
       " 0.0     1946\n",
       "dtype: int64"
      ]
     },
     "execution_count": 26,
     "metadata": {},
     "output_type": "execute_result"
    }
   ],
   "source": [
    "hits"
   ]
  },
  {
   "cell_type": "code",
   "execution_count": 27,
   "metadata": {},
   "outputs": [],
   "source": [
    "hit_raio = hits[1.0] /sum(hits)"
   ]
  },
  {
   "cell_type": "code",
   "execution_count": 28,
   "metadata": {},
   "outputs": [
    {
     "data": {
      "text/plain": [
       "0.5103508153132377"
      ]
     },
     "execution_count": 28,
     "metadata": {},
     "output_type": "execute_result"
    }
   ],
   "source": [
    "hit_raio"
   ]
  },
  {
   "cell_type": "code",
   "execution_count": 29,
   "metadata": {},
   "outputs": [],
   "source": [
    "from sklearn.metrics import accuracy_score"
   ]
  },
  {
   "cell_type": "code",
   "execution_count": 30,
   "metadata": {},
   "outputs": [
    {
     "data": {
      "text/plain": [
       "0.5103508153132377"
      ]
     },
     "execution_count": 30,
     "metadata": {},
     "output_type": "execute_result"
    }
   ],
   "source": [
    "accuracy_score(y_true=data[\"direction\"], y_pred=data[\"pred\"])"
   ]
  },
  {
   "cell_type": "markdown",
   "metadata": {},
   "source": [
    "# In Sample BackTesting"
   ]
  },
  {
   "cell_type": "code",
   "execution_count": 32,
   "metadata": {},
   "outputs": [],
   "source": [
    "data[\"strategy\"] = data[\"pred\"] * data[\"returns\"]"
   ]
  },
  {
   "cell_type": "code",
   "execution_count": 33,
   "metadata": {},
   "outputs": [],
   "source": [
    "data['creturns'] = data['returns'].cumsum().apply(np.exp)\n",
    "data['cstrategy'] = data['strategy'].cumsum().apply(np.exp)"
   ]
  },
  {
   "cell_type": "code",
   "execution_count": 35,
   "metadata": {},
   "outputs": [
    {
     "data": {
      "image/png": "[encoded data removed]",
      "text/plain": [
       "<Figure size 864x576 with 1 Axes>"
      ]
     },
     "metadata": {},
     "output_type": "display_data"
    }
   ],
   "source": [
    "data[['creturns', 'cstrategy']].plot(figsize=(12,8))\n",
    "plt.show()"
   ]
  },
  {
   "cell_type": "code",
   "execution_count": 36,
   "metadata": {},
   "outputs": [
    {
     "data": {
      "text/plain": [
       "time\n",
       "2019-01-01 22:30:00+00:00    NaN\n",
       "2019-01-01 22:35:00+00:00    0.0\n",
       "2019-01-01 22:40:00+00:00   -2.0\n",
       "2019-01-01 22:45:00+00:00    2.0\n",
       "2019-01-01 22:50:00+00:00    0.0\n",
       "                            ... \n",
       "2019-12-30 23:35:00+00:00    0.0\n",
       "2019-12-30 23:40:00+00:00    0.0\n",
       "2019-12-30 23:45:00+00:00    0.0\n",
       "2019-12-30 23:50:00+00:00   -2.0\n",
       "2019-12-30 23:55:00+00:00    2.0\n",
       "Name: pred, Length: 73714, dtype: float64"
      ]
     },
     "execution_count": 36,
     "metadata": {},
     "output_type": "execute_result"
    }
   ],
   "source": [
    "data[\"pred\"].diff()"
   ]
  },
  {
   "cell_type": "markdown",
   "metadata": {},
   "source": [
    "# Out Sample Testing"
   ]
  },
  {
   "cell_type": "code",
   "execution_count": 58,
   "metadata": {},
   "outputs": [],
   "source": [
    "test = pd.read_csv(\"/Users/ahsan/Dropbox/My Mac (Alnoors-MBP-2.hub)/Documents/github/AlgoTrading/Part3_Materials/test_set.csv\", parse_dates=[\"time\"], index_col=\"time\")"
   ]
  },
  {
   "cell_type": "code",
   "execution_count": 59,
   "metadata": {},
   "outputs": [],
   "source": [
    "test[\"returns\"] = np.log(test.div(test.shift(1)))"
   ]
  },
  {
   "cell_type": "code",
   "execution_count": 60,
   "metadata": {},
   "outputs": [],
   "source": [
    "test[\"direction\"] = np.sign(test[\"returns\"])"
   ]
  },
  {
   "cell_type": "code",
   "execution_count": 61,
   "metadata": {},
   "outputs": [
    {
     "data": {
      "text/html": [
       "<div>\n",
       "<style scoped>\n",
       "    .dataframe tbody tr th:only-of-type {\n",
       "        vertical-align: middle;\n",
       "    }\n",
       "\n",
       "    .dataframe tbody tr th {\n",
       "        vertical-align: top;\n",
       "    }\n",
       "\n",
       "    .dataframe thead th {\n",
       "        text-align: right;\n",
       "    }\n",
       "</style>\n",
       "<table border=\"1\" class=\"dataframe\">\n",
       "  <thead>\n",
       "    <tr style=\"text-align: right;\">\n",
       "      <th></th>\n",
       "      <th>price</th>\n",
       "      <th>returns</th>\n",
       "      <th>direction</th>\n",
       "    </tr>\n",
       "    <tr>\n",
       "      <th>time</th>\n",
       "      <th></th>\n",
       "      <th></th>\n",
       "      <th></th>\n",
       "    </tr>\n",
       "  </thead>\n",
       "  <tbody>\n",
       "    <tr>\n",
       "      <th>2020-01-01 22:00:00+00:00</th>\n",
       "      <td>1.121325</td>\n",
       "      <td>NaN</td>\n",
       "      <td>NaN</td>\n",
       "    </tr>\n",
       "    <tr>\n",
       "      <th>2020-01-01 22:05:00+00:00</th>\n",
       "      <td>1.121250</td>\n",
       "      <td>-0.000067</td>\n",
       "      <td>-1.0</td>\n",
       "    </tr>\n",
       "    <tr>\n",
       "      <th>2020-01-01 22:10:00+00:00</th>\n",
       "      <td>1.121250</td>\n",
       "      <td>0.000000</td>\n",
       "      <td>0.0</td>\n",
       "    </tr>\n",
       "    <tr>\n",
       "      <th>2020-01-01 22:15:00+00:00</th>\n",
       "      <td>1.121460</td>\n",
       "      <td>0.000187</td>\n",
       "      <td>1.0</td>\n",
       "    </tr>\n",
       "    <tr>\n",
       "      <th>2020-01-01 22:20:00+00:00</th>\n",
       "      <td>1.121540</td>\n",
       "      <td>0.000071</td>\n",
       "      <td>1.0</td>\n",
       "    </tr>\n",
       "    <tr>\n",
       "      <th>...</th>\n",
       "      <td>...</td>\n",
       "      <td>...</td>\n",
       "      <td>...</td>\n",
       "    </tr>\n",
       "    <tr>\n",
       "      <th>2020-08-30 23:35:00+00:00</th>\n",
       "      <td>1.190895</td>\n",
       "      <td>-0.000080</td>\n",
       "      <td>-1.0</td>\n",
       "    </tr>\n",
       "    <tr>\n",
       "      <th>2020-08-30 23:40:00+00:00</th>\n",
       "      <td>1.191240</td>\n",
       "      <td>0.000290</td>\n",
       "      <td>1.0</td>\n",
       "    </tr>\n",
       "    <tr>\n",
       "      <th>2020-08-30 23:45:00+00:00</th>\n",
       "      <td>1.191515</td>\n",
       "      <td>0.000231</td>\n",
       "      <td>1.0</td>\n",
       "    </tr>\n",
       "    <tr>\n",
       "      <th>2020-08-30 23:50:00+00:00</th>\n",
       "      <td>1.191685</td>\n",
       "      <td>0.000143</td>\n",
       "      <td>1.0</td>\n",
       "    </tr>\n",
       "    <tr>\n",
       "      <th>2020-08-30 23:55:00+00:00</th>\n",
       "      <td>1.191715</td>\n",
       "      <td>0.000025</td>\n",
       "      <td>1.0</td>\n",
       "    </tr>\n",
       "  </tbody>\n",
       "</table>\n",
       "<p>49367 rows × 3 columns</p>\n",
       "</div>"
      ],
      "text/plain": [
       "                              price   returns  direction\n",
       "time                                                    \n",
       "2020-01-01 22:00:00+00:00  1.121325       NaN        NaN\n",
       "2020-01-01 22:05:00+00:00  1.121250 -0.000067       -1.0\n",
       "2020-01-01 22:10:00+00:00  1.121250  0.000000        0.0\n",
       "2020-01-01 22:15:00+00:00  1.121460  0.000187        1.0\n",
       "2020-01-01 22:20:00+00:00  1.121540  0.000071        1.0\n",
       "...                             ...       ...        ...\n",
       "2020-08-30 23:35:00+00:00  1.190895 -0.000080       -1.0\n",
       "2020-08-30 23:40:00+00:00  1.191240  0.000290        1.0\n",
       "2020-08-30 23:45:00+00:00  1.191515  0.000231        1.0\n",
       "2020-08-30 23:50:00+00:00  1.191685  0.000143        1.0\n",
       "2020-08-30 23:55:00+00:00  1.191715  0.000025        1.0\n",
       "\n",
       "[49367 rows x 3 columns]"
      ]
     },
     "execution_count": 61,
     "metadata": {},
     "output_type": "execute_result"
    }
   ],
   "source": [
    "test"
   ]
  },
  {
   "cell_type": "code",
   "execution_count": 63,
   "metadata": {},
   "outputs": [],
   "source": [
    "lags = 5"
   ]
  },
  {
   "cell_type": "code",
   "execution_count": 64,
   "metadata": {},
   "outputs": [],
   "source": [
    "cols = []\n",
    "for lag in range(1, lags+1):\n",
    "    col = \"lag{}\".format(lag)\n",
    "    test[col] = test[\"returns\"].shift(lag)\n",
    "    cols.append(col)\n",
    "test.dropna(inplace=True)"
   ]
  },
  {
   "cell_type": "code",
   "execution_count": 65,
   "metadata": {},
   "outputs": [
    {
     "data": {
      "text/html": [
       "<div>\n",
       "<style scoped>\n",
       "    .dataframe tbody tr th:only-of-type {\n",
       "        vertical-align: middle;\n",
       "    }\n",
       "\n",
       "    .dataframe tbody tr th {\n",
       "        vertical-align: top;\n",
       "    }\n",
       "\n",
       "    .dataframe thead th {\n",
       "        text-align: right;\n",
       "    }\n",
       "</style>\n",
       "<table border=\"1\" class=\"dataframe\">\n",
       "  <thead>\n",
       "    <tr style=\"text-align: right;\">\n",
       "      <th></th>\n",
       "      <th>price</th>\n",
       "      <th>returns</th>\n",
       "      <th>direction</th>\n",
       "      <th>lag1</th>\n",
       "      <th>lag2</th>\n",
       "      <th>lag3</th>\n",
       "      <th>lag4</th>\n",
       "      <th>lag5</th>\n",
       "    </tr>\n",
       "    <tr>\n",
       "      <th>time</th>\n",
       "      <th></th>\n",
       "      <th></th>\n",
       "      <th></th>\n",
       "      <th></th>\n",
       "      <th></th>\n",
       "      <th></th>\n",
       "      <th></th>\n",
       "      <th></th>\n",
       "    </tr>\n",
       "  </thead>\n",
       "  <tbody>\n",
       "    <tr>\n",
       "      <th>2020-01-01 22:40:00+00:00</th>\n",
       "      <td>1.121520</td>\n",
       "      <td>0.000004</td>\n",
       "      <td>1.0</td>\n",
       "      <td>-0.000022</td>\n",
       "      <td>0.000071</td>\n",
       "      <td>0.000187</td>\n",
       "      <td>0.000000</td>\n",
       "      <td>-0.000067</td>\n",
       "    </tr>\n",
       "    <tr>\n",
       "      <th>2020-01-01 22:45:00+00:00</th>\n",
       "      <td>1.121555</td>\n",
       "      <td>0.000031</td>\n",
       "      <td>1.0</td>\n",
       "      <td>0.000004</td>\n",
       "      <td>-0.000022</td>\n",
       "      <td>0.000071</td>\n",
       "      <td>0.000187</td>\n",
       "      <td>0.000000</td>\n",
       "    </tr>\n",
       "    <tr>\n",
       "      <th>2020-01-01 22:50:00+00:00</th>\n",
       "      <td>1.121550</td>\n",
       "      <td>-0.000004</td>\n",
       "      <td>-1.0</td>\n",
       "      <td>0.000031</td>\n",
       "      <td>0.000004</td>\n",
       "      <td>-0.000022</td>\n",
       "      <td>0.000071</td>\n",
       "      <td>0.000187</td>\n",
       "    </tr>\n",
       "    <tr>\n",
       "      <th>2020-01-01 22:55:00+00:00</th>\n",
       "      <td>1.121515</td>\n",
       "      <td>-0.000031</td>\n",
       "      <td>-1.0</td>\n",
       "      <td>-0.000004</td>\n",
       "      <td>0.000031</td>\n",
       "      <td>0.000004</td>\n",
       "      <td>-0.000022</td>\n",
       "      <td>0.000071</td>\n",
       "    </tr>\n",
       "    <tr>\n",
       "      <th>2020-01-01 23:00:00+00:00</th>\n",
       "      <td>1.121915</td>\n",
       "      <td>0.000357</td>\n",
       "      <td>1.0</td>\n",
       "      <td>-0.000031</td>\n",
       "      <td>-0.000004</td>\n",
       "      <td>0.000031</td>\n",
       "      <td>0.000004</td>\n",
       "      <td>-0.000022</td>\n",
       "    </tr>\n",
       "    <tr>\n",
       "      <th>...</th>\n",
       "      <td>...</td>\n",
       "      <td>...</td>\n",
       "      <td>...</td>\n",
       "      <td>...</td>\n",
       "      <td>...</td>\n",
       "      <td>...</td>\n",
       "      <td>...</td>\n",
       "      <td>...</td>\n",
       "    </tr>\n",
       "    <tr>\n",
       "      <th>2020-08-30 23:35:00+00:00</th>\n",
       "      <td>1.190895</td>\n",
       "      <td>-0.000080</td>\n",
       "      <td>-1.0</td>\n",
       "      <td>-0.000092</td>\n",
       "      <td>0.000298</td>\n",
       "      <td>0.000046</td>\n",
       "      <td>0.000000</td>\n",
       "      <td>-0.000151</td>\n",
       "    </tr>\n",
       "    <tr>\n",
       "      <th>2020-08-30 23:40:00+00:00</th>\n",
       "      <td>1.191240</td>\n",
       "      <td>0.000290</td>\n",
       "      <td>1.0</td>\n",
       "      <td>-0.000080</td>\n",
       "      <td>-0.000092</td>\n",
       "      <td>0.000298</td>\n",
       "      <td>0.000046</td>\n",
       "      <td>0.000000</td>\n",
       "    </tr>\n",
       "    <tr>\n",
       "      <th>2020-08-30 23:45:00+00:00</th>\n",
       "      <td>1.191515</td>\n",
       "      <td>0.000231</td>\n",
       "      <td>1.0</td>\n",
       "      <td>0.000290</td>\n",
       "      <td>-0.000080</td>\n",
       "      <td>-0.000092</td>\n",
       "      <td>0.000298</td>\n",
       "      <td>0.000046</td>\n",
       "    </tr>\n",
       "    <tr>\n",
       "      <th>2020-08-30 23:50:00+00:00</th>\n",
       "      <td>1.191685</td>\n",
       "      <td>0.000143</td>\n",
       "      <td>1.0</td>\n",
       "      <td>0.000231</td>\n",
       "      <td>0.000290</td>\n",
       "      <td>-0.000080</td>\n",
       "      <td>-0.000092</td>\n",
       "      <td>0.000298</td>\n",
       "    </tr>\n",
       "    <tr>\n",
       "      <th>2020-08-30 23:55:00+00:00</th>\n",
       "      <td>1.191715</td>\n",
       "      <td>0.000025</td>\n",
       "      <td>1.0</td>\n",
       "      <td>0.000143</td>\n",
       "      <td>0.000231</td>\n",
       "      <td>0.000290</td>\n",
       "      <td>-0.000080</td>\n",
       "      <td>-0.000092</td>\n",
       "    </tr>\n",
       "  </tbody>\n",
       "</table>\n",
       "<p>49361 rows × 8 columns</p>\n",
       "</div>"
      ],
      "text/plain": [
       "                              price   returns  direction      lag1      lag2  \\\n",
       "time                                                                           \n",
       "2020-01-01 22:40:00+00:00  1.121520  0.000004        1.0 -0.000022  0.000071   \n",
       "2020-01-01 22:45:00+00:00  1.121555  0.000031        1.0  0.000004 -0.000022   \n",
       "2020-01-01 22:50:00+00:00  1.121550 -0.000004       -1.0  0.000031  0.000004   \n",
       "2020-01-01 22:55:00+00:00  1.121515 -0.000031       -1.0 -0.000004  0.000031   \n",
       "2020-01-01 23:00:00+00:00  1.121915  0.000357        1.0 -0.000031 -0.000004   \n",
       "...                             ...       ...        ...       ...       ...   \n",
       "2020-08-30 23:35:00+00:00  1.190895 -0.000080       -1.0 -0.000092  0.000298   \n",
       "2020-08-30 23:40:00+00:00  1.191240  0.000290        1.0 -0.000080 -0.000092   \n",
       "2020-08-30 23:45:00+00:00  1.191515  0.000231        1.0  0.000290 -0.000080   \n",
       "2020-08-30 23:50:00+00:00  1.191685  0.000143        1.0  0.000231  0.000290   \n",
       "2020-08-30 23:55:00+00:00  1.191715  0.000025        1.0  0.000143  0.000231   \n",
       "\n",
       "                               lag3      lag4      lag5  \n",
       "time                                                     \n",
       "2020-01-01 22:40:00+00:00  0.000187  0.000000 -0.000067  \n",
       "2020-01-01 22:45:00+00:00  0.000071  0.000187  0.000000  \n",
       "2020-01-01 22:50:00+00:00 -0.000022  0.000071  0.000187  \n",
       "2020-01-01 22:55:00+00:00  0.000004 -0.000022  0.000071  \n",
       "2020-01-01 23:00:00+00:00  0.000031  0.000004 -0.000022  \n",
       "...                             ...       ...       ...  \n",
       "2020-08-30 23:35:00+00:00  0.000046  0.000000 -0.000151  \n",
       "2020-08-30 23:40:00+00:00  0.000298  0.000046  0.000000  \n",
       "2020-08-30 23:45:00+00:00 -0.000092  0.000298  0.000046  \n",
       "2020-08-30 23:50:00+00:00 -0.000080 -0.000092  0.000298  \n",
       "2020-08-30 23:55:00+00:00  0.000290 -0.000080 -0.000092  \n",
       "\n",
       "[49361 rows x 8 columns]"
      ]
     },
     "execution_count": 65,
     "metadata": {},
     "output_type": "execute_result"
    }
   ],
   "source": [
    "test"
   ]
  },
  {
   "cell_type": "code",
   "execution_count": 66,
   "metadata": {},
   "outputs": [],
   "source": [
    "test[\"pred\"] = lm.predict(test[cols].values)"
   ]
  },
  {
   "cell_type": "code",
   "execution_count": 67,
   "metadata": {},
   "outputs": [
    {
     "data": {
      "text/plain": [
       " 1.0    26292\n",
       "-1.0    23069\n",
       "Name: pred, dtype: int64"
      ]
     },
     "execution_count": 67,
     "metadata": {},
     "output_type": "execute_result"
    }
   ],
   "source": [
    "test[\"pred\"].value_counts()"
   ]
  },
  {
   "cell_type": "code",
   "execution_count": 76,
   "metadata": {},
   "outputs": [],
   "source": [
    "hits_pred = np.sign(test[\"returns\"] * test[\"pred\"]).value_counts()"
   ]
  },
  {
   "cell_type": "code",
   "execution_count": 77,
   "metadata": {},
   "outputs": [
    {
     "data": {
      "text/plain": [
       " 1.0    25109\n",
       "-1.0    23645\n",
       " 0.0      607\n",
       "dtype: int64"
      ]
     },
     "execution_count": 77,
     "metadata": {},
     "output_type": "execute_result"
    }
   ],
   "source": [
    "hits_pred"
   ]
  },
  {
   "cell_type": "code",
   "execution_count": 80,
   "metadata": {},
   "outputs": [],
   "source": [
    "hit_ratio_pred = [hits_pred[1.0]/ sum(hits_pred)]"
   ]
  },
  {
   "cell_type": "code",
   "execution_count": 81,
   "metadata": {},
   "outputs": [
    {
     "data": {
      "text/plain": [
       "[0.50868094244444]"
      ]
     },
     "execution_count": 81,
     "metadata": {},
     "output_type": "execute_result"
    }
   ],
   "source": [
    "hit_ratio_pred"
   ]
  },
  {
   "cell_type": "code",
   "execution_count": 82,
   "metadata": {},
   "outputs": [],
   "source": [
    "test['strategy'] = test['pred'] * test['returns']"
   ]
  },
  {
   "cell_type": "code",
   "execution_count": 83,
   "metadata": {},
   "outputs": [],
   "source": [
    "test['creturns'] = test['returns'].cumsum().apply(np.exp)\n",
    "test['cstrategy'] = test['strategy'].cumsum().apply(np.exp)"
   ]
  },
  {
   "cell_type": "code",
   "execution_count": 84,
   "metadata": {},
   "outputs": [
    {
     "data": {
      "image/png": "[encoded data removed]",
      "text/plain": [
       "<Figure size 864x576 with 1 Axes>"
      ]
     },
     "metadata": {},
     "output_type": "display_data"
    }
   ],
   "source": [
    "test[['creturns', 'cstrategy']].plot(figsize=(12,8))\n",
    "plt.show()"
   ]
  },
  {
   "cell_type": "code",
   "execution_count": null,
   "metadata": {},
   "outputs": [],
   "source": []
  }
 ],
 "metadata": {
  "kernelspec": {
   "display_name": "Python 3",
   "language": "python",
   "name": "python3"
  },
  "language_info": {
   "codemirror_mode": {
    "name": "ipython",
    "version": 3
   },
   "file_extension": ".py",
   "mimetype": "text/x-python",
   "name": "python",
   "nbconvert_exporter": "python",
   "pygments_lexer": "ipython3",
   "version": "3.8.3"
  }
 },
 "nbformat": 4,
 "nbformat_minor": 4
}
